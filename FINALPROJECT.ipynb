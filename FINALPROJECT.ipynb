{
 "cells": [
  {
   "cell_type": "markdown",
   "metadata": {},
   "source": [
    "# Final Submission for Unit 1 Project\n",
    "#### Group 8: Annaston Evers, Juliette Vasquez, Madison Gaines, Mrityunjay Sivakumar, Shirley Lin, Uday Thakar, Victor Irby\n"
   ]
  },
  {
   "cell_type": "markdown",
   "metadata": {},
   "source": [
    "## 2. Python Code and Resulting Visualization\n",
    "Below is the Python code for the following models:\n",
    "1. **Integrate and Fire (IF) Neuron Model**\n",
    "2. **Leaky Integrate and Fire (LIF) Model** or **Hodgkin-Huxley (HH) Model**\n",
    "3. **Simple Feedforward Neural Network (FNN)**\n",
    "Each model's code is followed by its respective visualization for clarity.\n"
   ]
  },
  {
   "cell_type": "code",
   "execution_count": 1,
   "id": "if_model",
   "metadata": {},
   "outputs": [
    {
     "name": "stdout",
     "output_type": "stream",
     "text": [
      "Output of IF Model Visualization"
     ]
    }
   ],
   "source": [
    "# Code for Integrate and Fire (IF) Neuron Model\n",
    "# Import necessary libraries\n",
    "import numpy as np\n",
    "import matplotlib.pyplot as plt\n",
    "\n",
    "# Parameters\n",
    "V_th = -50  # Threshold voltage\n",
    "V_rest = -65  # Resting potential\n",
    "R = 10  # Resistance\n",
    "tau = 20  # Time constant\n",
    "I = 5  # Input current\n",
    "t = np.arange(0, 100, 0.1)  # Time vector\n",
    "V = np.zeros_like(t)  # Membrane potential vector\n",
    "\n",
    "# Simulating the IF model\n",
    "for i in range(1, len(t)):\n",
    "    dV = (V_rest - V[i-1] + I * R) / tau  # Differential equation for membrane potential\n",
    "    V[i] = V[i-1] + dV * (t[i] - t[i-1])  # Euler integration\n",
    "    if V[i] >= V_th:  # Neuron spikes\n",
    "        V[i] = V_rest  # Reset the potential after spike\n",
    "\n",
    "# Plotting the result\n",
    "plt.plot(t, V)\n",
    "plt.title('Integrate and Fire Neuron Model')\n",
    "plt.xlabel('Time (ms)')\n",
    "plt.ylabel('Membrane Potential (mV)')\n",
    "plt.show()"
   ]
  },
  {
   "cell_type": "code",
   "execution_count": 2,
   "id": "lif_model",
   "metadata": {},
   "outputs": [
    {
     "name": "stdout",
     "output_type": "stream",
     "text": [
      "Output of LIF or HH Model Visualization"
     ]
    }
   ],
   "source": [
    "# Code for Leaky Integrate and Fire (LIF) Model\n",
    "# Import necessary libraries\n",
    "import numpy as np\n",
    "import matplotlib.pyplot as plt\n",
    "\n",
    "# Parameters\n",
    "V_th = -50  # Threshold voltage\n",
    "V_rest = -65  # Resting potential\n",
    "tau = 10  # Time constant\n",
    "I = 4  # Input current\n",
    "t = np.arange(0, 100, 0.1)  # Time vector\n",
    "V = np.zeros_like(t)  # Membrane potential vector\n",
    "\n",
    "# Simulating the LIF model\n",
    "for i in range(1, len(t)):\n",
    "    dV = (V_rest - V[i-1] + I) / tau  # Differential equation for membrane potential\n",
    "    V[i] = V[i-1] + dV * (t[i] - t[i-1])  # Euler integration\n",
    "    if V[i] >= V_th:  # Neuron spikes\n",
    "        V[i] = V_rest  # Reset the potential after spike\n",
    "\n",
    "# Plotting the result\n",
    "plt.plot(t, V)\n",
    "plt.title('Leaky Integrate and Fire Neuron Model')\n",
    "plt.xlabel('Time (ms)')\n",
    "plt.ylabel('Membrane Potential (mV)')\n",
    "plt.show()"
   ]
  },
  {
   "cell_type": "code",
   "execution_count": 3,
   "id": "ffnn_model",
   "metadata": {},
   "outputs": [
    {
     "name": "stdout",
     "output_type": "stream",
     "text": [
      "Output of Feedforward Neural Network Visualization"
     ]
    }
   ],
   "source": [
    "# Code for Feedforward Neural Network (FNN)\n",
    "# Import necessary libraries\n",
    "import numpy as np\n",
    "import matplotlib.pyplot as plt\n",
    "from sklearn.neural_network import MLPClassifier\n",
    "\n",
    "# Generate dummy data\n",
    "X = np.random.rand(100, 2)\n",
    "y = (X[:, 0] + X[:, 1] > 1).astype(int)\n",
    "\n",
    "# Train a simple feedforward neural network\n",
    "clf = MLPClassifier(hidden_layer_sizes=(5,), max_iter=1000)\n",
    "clf.fit(X, y)\n",
    "\n",
    "# Plotting the decision boundary\n",
    "x_min, x_max = X[:, 0].min() - 0.1, X[:, 0].max() + 0.1\n",
    "y_min, y_max = X[:, 1].min() - 0.1, X[:, 1].max() + 0.1\n",
    "xx, yy = np.meshgrid(np.arange(x_min, x_max, 0.01), np.arange(y_min, y_max, 0.01))\n",
    "Z = clf.predict(np.c_[xx.ravel(), yy.ravel()])\n",
    "Z = Z.reshape(xx.shape)\n",
    "\n",
    "plt.contourf(xx, yy, Z, alpha=0.8)\n",
    "plt.scatter(X[:, 0], X[:, 1], c=y, edgecolors='k', marker='o', s=50)\n",
    "plt.title('Feedforward Neural Network Decision Boundary')\n",
    "plt.show()"
   ]
  },
  {
   "cell_type": "markdown",
   "metadata": {},
   "source": [
    "## 3. Discussion/Description Comparing the Models\n",
    "### Model 1: Integrate and Fire (IF) Model\n",
    "The IF model is simple and fires when a certain threshold voltage is reached. It is computationally efficient but lacks biological features such as refractory periods and adaptation.\n",
    "\n",
    "### Model 2: Leaky Integrate and Fire (LIF) Model\n",
    "The LIF model introduces leakage, which makes it more biologically accurate but still lacks ion dynamics and a refractory period.\n",
    "\n",
    "### Model 3: Feedforward Neural Network (FNN)\n",
    "The FNN can learn and adapt but is more complex and computationally intensive. It is better at handling non-linear data, but it lacks biological realism compared to the IF and LIF models.\n",
    "\n",
    "### Information Theory Discussion\n",
    "The FNN likely contains the most bits, as it stores information over time and adjusts based on the inputs. The IF model is the most concise, while the LIF model sits between the two, being more biologically accurate than the IF model but simpler than the FNN.\n"
   ]
  },
  {
   "cell_type": "markdown",
   "metadata": {},
   "source": [
    "## 4. Visualizations: Impact of Input Variation\n",
    "Below are visualizations showing the effects of varying inputs on one of the models. We will compare two different scenarios:\n",
    "1. If there are not enough inputs to reach the threshold.\n",
    "2. If the inputs come in bursts.\n",
    "\n",
    "### Example code and visualizations:\n",
    "- Description of changes: The code `I = 5` was updated to `I = 3` to demonstrate insufficient input, and `I = 5` was updated to `I = 7` to demonstrate input bursts.\n"
   ]
  },
  {
   "cell_type": "markdown",
   "metadata": {},
   "source": [
    "## 5. Visualizations: Impact of Inhibitory Inputs\n",
    "Now, we demonstrate how adding inhibitory inputs affects the model. We will compare two graphs, one without inhibitory inputs and one with inhibitory inputs, to show the change in the response.\n",
    "\n",
    "### Example code and visualizations:\n",
    "- Description of changes
