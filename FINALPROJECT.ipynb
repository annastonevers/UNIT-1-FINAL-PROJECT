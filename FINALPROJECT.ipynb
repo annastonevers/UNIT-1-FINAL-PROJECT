{
 "cells": [
  {
   "cell_type": "markdown",
   "metadata": {},
   "source": [
    "# Final Submission for Unit 1 Project\n",
    "#### Group 8: Annaston Evers, Juliette Vasquez, Madison Gaines, Mrityunjay Sivakumar, Shirley Lin, Uday Thakar, Victor Irby\n"
   ]
  },
  {
   "cell_type": "markdown",
   "metadata": {},
   "source": [
    "## 2. Python Code and Resulting Visualization\n",
    "Below is the Python code for the following models:\n",
    "1. **Integrate and Fire (IF) Neuron Model**\n",
    "2. **Leaky Integrate and Fire (LIF) Model** or **Hodgkin-Huxley (HH) Model**\n",
    "3. **Simple Feedforward Neural Network (FNN)**\n",
    "Each model's code is followed by its respective visualization for clarity.\n"
   ]
  },
  {
   "cell_type": "code",
   "execution_count": 1,
   "id": "if_model",
   "metadata": {},
   "outputs": [
    {
     "name": "stdout",
     "output_type": "stream",
     "text": [
      "Output of IF Model Visualization"
     ]
    }
   ],
   "source": [
    "# Code for Integrate and Fire (IF) Neuron Model\n",
    "# Import necessary libraries\n",
    "import numpy as np\n",
    "import matplotlib.pyplot as plt\n",
    "\n",
    "# Parameters\n",
    "V_th = -50  # Threshold voltage\n",
    "V_rest = -65  # Resting potential\n",
    "R = 10  # Resistance\n",
    "tau = 20  # Time constant\n",
    "I = 5  # Input current\n",
    "t = np.arange(0, 100, 0.1)  # Time vector\n",
    "V = np.zeros_like(t)  # Membrane potential vector\n",
    "\n",
    "# Simulating the IF model\n",
    "for i in range(1, len(t)):\n",
    "    dV = (V_rest - V[i-1] + I * R) / tau  # Differential equation for membrane potential\n",
    "    V[i] = V[i-1] + dV * (t[i] - t[i-1])  # Euler integration\n",
    "    if V[i] >= V_th:  # Neuron spikes\n",
    "        V[i] = V_rest  # Reset the potential after spike\n",
    "\n",
    "# Plotting the result\n",
    "plt.plot(t, V)\n",
    "plt.title('Integrate and Fire Neuron Model')\n",
    "plt.xlabel('Time (ms)')\n",
    "plt.ylabel('Membrane Potential (mV)')\n",
    "plt.show()"
   ]
  },
  {
   "cell_type": "code",
   "execution_count": 2,
   "id": "lif_model",
   "metadata": {},
   "outputs": [
    {
     "name": "stdout",
     "output_type": "stream",
     "text": [
      "Output of LIF or HH Model Visualization"
     ]
    }
   ],
   "source": [
    "# Code for Leaky Integrate and Fire (LIF) Model\n",
    "# Import necessary libraries\n",
    "import numpy as np\n",
    "import matplotlib.pyplot as plt\n",
    "\n",
    "# Parameters\n",
    "V_th = -50  # Threshold voltage\n",
    "V_rest = -65  # Resting potential\n",
    "tau = 10  # Time constant\n",
    "I = 4  # Input current\n",
    "t = np.arange(0, 100, 0.1)  # Time vector\n",
    "V = np.zeros_like(t)  # Membrane potential vector\n",
    "\n",
    "# Simulating the LIF model\n",
    "for i in range(1, len(t)):\n",
    "    dV = (V_rest - V[i-1] + I) / tau  # Differential equation for membrane potential\n",
    "    V[i] = V[i-1] + dV * (t[i] - t[i-1])  # Euler integration\n",
    "    if V[i] >= V_th:  # Neuron spikes\n",
    "        V[i] = V_rest  # Reset the potential after spike\n",
    "\n",
    "# Plotting the result\n",
    "plt.plot(t, V)\n",
    "plt.title('Leaky Integrate and Fire Neuron Model')\n",
    "plt.xlabel('Time (ms)')\n",
    "plt.ylabel('Membrane Potential (mV)')
