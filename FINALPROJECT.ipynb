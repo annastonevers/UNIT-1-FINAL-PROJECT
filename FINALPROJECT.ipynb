# Final Submission for Unit 1 Project

#### Group 8: Annaston Evers, Juliette Vasquez, Madison Gaines, Mrityunjay Sivakumar, Shirley Lin, Uday Thakar, Victor Irby

## Python Code and Resulting Visualization

Below is the Python code for the following models:

1. **Integrate and Fire (IF) Neuron Model**
2. **Leaky Integrate and Fire (LIF) Model**
3. **Simple Feedforward Neural Network (FNN)**

### Integrate and Fire Model

```python
import numpy as np
import matplotlib.pyplot as plt

# Parameters
V_rest = -65  # Resting potential (mV)
V_th = -55    # Threshold potential (mV)
V_reset = V_rest  # Reset potential after firing (mV)
tau = 20  # Membrane time constant (ms)
R = 10  # Membrane resistance (MΩ)
dt = 0.1  # Time step (ms)
T = 100  # Total time for the simulation (ms)

# Function to simulate the pure integrate-and-fire model
def integrate_and_fire(I_ext, T=100, dt=0.1):
    t = np.arange(0, T, dt)
    V = np.full_like(t, V_rest)
    for i in range(1, len(t)):
        dV = (R * I_ext) * dt / tau  # No leak term
        V[i] = V[i-1] + dV
        if V[i] >= V_th:
            V[i] = V_reset
    return t, V

# Simulate with different input currents
I_ext_low = 1.5  # Low input current (nA)
I_ext_high = 3.0  # High input current (nA)

t_low, V_low = integrate_and_fire(I_ext_low)
t_high, V_high = integrate_and_fire(I_ext_high)

# Plotting
plt.figure(figsize=(10, 6))
plt.subplot(2, 1, 1)
plt.plot(t_low, V_low, label=f'I_ext = {I_ext_low} nA')
plt.axhline(y=V_th, color='r', linestyle='--', label="Threshold (-55 mV)")
plt.axhline(y=V_rest, color='g', linestyle='--', label="Resting Potential (-65 mV)")
plt.title('Firing Pattern with Low Input Current')
plt.xlabel('Time (ms)')
plt.ylabel('Membrane Potential (mV)')
plt.legend()

plt.subplot(2, 1, 2)
plt.plot(t_high, V_high, label=f'I_ext = {I_ext_high} nA', color='orange')
plt.axhline(y=V_th, color='r', linestyle='--', label="Threshold (-55 mV)")
plt.axhline(y=V_rest, color='g', linestyle='--', label="Resting Potential (-65 mV)")
plt.title('Firing Pattern with High Input Current')
plt.xlabel('Time (ms)')
plt.ylabel('Membrane Potential (mV)')
plt.legend()

plt.tight_layout()
plt.show()
```

![IF Model Results](IFModelGraph.png)

### Leaky Integrate and Fire Model

```python
import numpy as np
import matplotlib.pyplot as plt

# Parameters
V_rest = -65
V_th = -55
V_reset = V_rest
tau = 20
R = 10
dt = 0.1
T = 100

def leaky_integrate_and_fire(I_ext, T=100, dt=0.1):
    t = np.arange(0, T, dt)
    V = np.full_like(t, V_rest)
    for i in range(1, len(t)):
        dV = (- (V[i-1] - V_rest) + R * I_ext) * dt / tau
        V[i] = V[i-1] + dV
        if V[i] >= V_th:
            V[i] = V_reset
    return t, V

I_ext_low = 1.5
I_ext_high = 3.0
t_low, V_low = leaky_integrate_and_fire(I_ext_low)
t_high, V_high = leaky_integrate_and_fire(I_ext_high)

plt.figure(figsize=(10, 6))
plt.subplot(2, 1, 1)
plt.plot(t_low, V_low, label=f'I_ext = {I_ext_low} nA')
plt.axhline(y=V_th, color='r', linestyle='--', label='Threshold (-55 mV)')
plt.axhline(y=V_rest, color='g', linestyle='--', label='Resting Potential (-65 mV)')
plt.title('Firing Pattern with Low Input Current')
plt.xlabel('Time (ms)')
plt.ylabel('Membrane Potential (mV)')
plt.legend()

plt.subplot(2, 1, 2)
plt.plot(t_high, V_high, label=f'I_ext = {I_ext_high} nA', color='orange')
plt.axhline(y=V_th, color='r', linestyle='--', label='Threshold (-55 mV)')
plt.axhline(y=V_rest, color='g', linestyle='--', label='Resting Potential (-65 mV)')
plt.title('Firing Pattern with High Input Current')
plt.xlabel('Time (ms)')
plt.ylabel('Membrane Potential (mV)')
plt.legend()

plt.tight_layout()
plt.show()
```

![LIF Model Results](LIFModelGraph.png)

## Coincidence Detection for Sound Localization

Coincidence detection for sound localization relies on neurons comparing the timing of sound signals arriving from both ears.

### Mechanisms of Sound Localization

- **Delay lines**: Neural pathways transmit signals from each ear to postsynaptic neurons in the medial superior olive (MSO).
- **Interaural time difference (ITD)**: The difference in arrival times helps determine sound direction.

### Dynamic Refinement of ITD Detection

Recent research (Franken et al., 2015; Grothe et al., 2010) highlights dynamic mechanisms refining coincidence detection, including:
- Specialized ion channels (Kv1 potassium, voltage-gated sodium) modulating spike timing.
- Adaptive synaptic input altering neuronal sensitivity to timing differences.

### Frequency and Real-World Applications

- ITD is the primary cue for low-frequency sounds, while high-frequency sounds rely on interaural level differences (ILDs).
- Dynamic ITD tuning aids in selective hearing in noisy environments.

### Further Reading

- [Franken et al. (2015)](https://pmc.ncbi.nlm.nih.gov/articles/PMC4410695/)
- [Grothe et al. (2010)](https://journals.physiology.org/doi/full/10.1152/physrev.00026.2009)

![hearing](hearing1.png)

Coincidence detection is more dynamic and adaptable than the Jeffress model, integrating anatomy with neural mechanisms for spatial awareness.
