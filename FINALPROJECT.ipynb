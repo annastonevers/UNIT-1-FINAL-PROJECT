{
 "cells": [
  {
   "cell_type": "markdown",
   "metadata": {},
   "source": [
    "# Final Submission for Unit 1 Project\n",
    "#### Group 8: Annaston Evers, Juliette Vasquez, Madison Gaines, Mrityunjay Sivakumar, Shirley Lin, Uday Thakar, Victor Irby\n"
   ]
  },
  {
   "cell_type": "markdown",
   "metadata": {},
   "source": [
    "## Python Code and Resulting Visualization\n",
    "Below is the Python code for the following models:\n",
    "1. **Integrate and Fire (IF) Neuron Model**\n",
    "2. **Leaky Integrate and Fire (LIF) Model**\n",
    "3. **Simple Feedforward Neural Network (FNN)**\n",
    "Each model's code is followed by its respective visualization for clarity.\n"
   ]
  },
  {
   "cell_type": "code",
   "execution_count": null,
   "id": "if_model",
   "metadata": {},
   "outputs": [],
   "source": []
  },
  {
   "cell_type": "code",
   "execution_count": null,
   "id": "lif_model",
   "metadata": {},
   "outputs": [],
   "source": []
  },
  {
   "cell_type": "code",
   "execution_count": null,
   "id": "ffnn_model",
   "metadata": {},
   "outputs": [],
   "source": []
  },
  {
   "cell_type": "markdown",
   "metadata": {},
   "source": [
    "## Model Comparison\n",
    "### Integrate and Fire (IF) Model\n",
    "The IF model is simple and fires when a certain threshold voltage is reached. It is computationally efficient but lacks biological features such as refractory periods and adaptation.\n",
    "\n",
    "### Leaky Integrate and Fire (LIF) Model\n",
    "The LIF model introduces leakage, which makes it more biologically accurate but still lacks ion dynamics and a refractory period.\n",
    "\n",
    "### Feedforward Neural Network (FNN)\n",
    "The FNN can learn and adapt but is more complex and computationally intensive. It is better at handling non-linear data, but it lacks biological realism compared to the IF and LIF models.\n",
    "\n",
    "### Information Theory Discussion\n",
    "The FNN likely contains the most bits, as it stores information over time and adjusts based on the inputs. The IF model is the most concise, while the LIF model sits between the two, being more biologically accurate than the IF model but simpler than the FNN.\n"
   ]
  },
  {
   "cell_type": "markdown",
   "metadata": {},
   "source": []
  },
  {
   "cell_type": "markdown",
   "metadata": {},
   "source": []
  },
  {
   "cell_type": "markdown",
   "metadata": {},
   "source": []
  }
 ],
 "metadata": {
  "kernelspec": {
   "display_name": "Python 3",
   "language": "python",
   "name": "python3"
  },
  "language_info": {
   "name": "python",
   "version": "3.8.8"
  }
 },
 "nbformat": 4,
 "nbformat_minor": 5
}
