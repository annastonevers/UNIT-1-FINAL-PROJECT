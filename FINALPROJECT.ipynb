{
 "cells": [
  {
   "cell_type": "markdown",
   "metadata": {},
   "source": [
    "# Final Submission for Unit 1 Project\n",
    "#### Group 8: Annaston Evers, Juliette Vasquez, Madison Gaines, Mrityunjay Sivakumar, Shirley Lin, Uday Thakar, Victor Irby\n"
   ]
  },
  {
   "cell_type": "markdown",
   "metadata": {},
   "source": [
    "## 2. Python Code and Resulting Visualization\n",
    "Below is the Python code for the following models:\n",
    "1. **Integrate and Fire (IF) Neuron Model**\n",
    "2. **Leaky Integrate and Fire (LIF) Model** or **Hodgkin-Huxley (HH) Model**\n",
    "3. **Simple Feedforward Neural Network (FNN)**\n",
    "Each model's code is followed by its respective visualization for clarity.\n"
   ]
  },
  {
   "cell_type": "code",
   "execution_count": null,
   "id": "if_model",
   "metadata": {},
   "outputs": [],
   "source": []
  },
  {
   "cell_type": "code",
   "execution_count": null,
   "id": "lif_model",
   "metadata": {},
   "outputs": [],
   "source": []
  },
  {
   "cell_type": "code",
   "execution_count": null,
   "id": "ffnn_model",
   "metadata": {},
   "outputs": [],
   "source": []
  },
  {
   "cell_type": "markdown",
   "metadata": {},
   "source": [
    "## 3. Discussion/Description Comparing the Models\n",
    "### Model 1: Integrate and Fire (IF) Model\n",
    "The IF model is simple and fires when a certain threshold voltage is reached. It is computationally efficient but lacks biological features such as refractory periods and adaptation.\n",
    "\n",
    "### Model 2: Leaky Integrate and Fire (LIF) Model\n",
    "The LIF model introduces leakage, which makes it more biologically accurate but still lacks ion dynamics and a refractory period.\n",
    "\n",
    "### Model 3: Feedforward Neural Network (FNN)\n",
    "The FNN can learn and adapt but is more complex and computationally intensive. It is better at handling non-linear data, but it lacks biological realism compared to the IF and LIF models.\n",
    "\n",
    "### Information Theory Discussion\n",
    "The FNN likely contains the most bits, as it stores information over time and adjusts based on the inputs. The IF model is the most concise, while the LIF model sits between the two, being more biologically accurate than the IF model but simpler than the FNN.\n"
   ]
  },
  {
   "cell_type": "markdown",
   "metadata": {},
   "source": [
    "## 4. Visualizations: Impact of Input Variation\n",
    "Below are visualizations showing the effects of varying inputs on one of the models. We will compare two different scenarios:\n",
    "1. If there are not enough inputs to reach the threshold.\n",
    "2. If the inputs come in bursts.\n",
    "\n",
    "### Example code and visualizations:\n",
    "- Description of changes: The code `I = 5` was updated to `I = 3` to demonstrate insufficient input, and `I = 5` was updated to `I = 7` to demonstrate input bursts.\n"
   ]
  },
  {
   "cell_type": "markdown",
   "metadata": {},
   "source": [
    "## 5. Visualizations: Impact of Inhibitory Inputs\n",
    "Now, we demonstrate how adding inhibitory inputs affects the model. We will compare two graphs, one without inhibitory inputs and one with inhibitory inputs, to show the change in the response.\n",
    "\n",
    "### Example code and visualizations:\n",
    "- Description of changes: The code `I_inhibitory = 0` was updated to `I_inhibitory = -2` to simulate the effect of inhibitory inputs.\n"
   ]
  },
  {
   "cell_type": "markdown",
   "metadata": {},
   "source": [
    "## 6. Topic of Your Choice: Oscillation between Swimming & Escape\n",
    "In this section, we describe the concept of oscillation between swimming and escape in animals, which is a mechanism for maintaining balance and responding to external threats. This involves the coordination of neural circuits to alternate between different motor patterns.\n",
    "\n",
    "For example, during swimming, the animal uses rhythmic movements to propel itself forward, while in escape mode, it switches to quick, erratic movements to avoid danger."
   ]
  }
 ],
 "metadata": {
  "kernelspec": {
   "display_name": "Python 3",
   "language": "python",
   "name": "python3"
  },
  "language_info": {
   "name": "python",
   "version": "3.8.8"
  }
 },
 "nbformat": 4,
 "nbformat_minor": 5
}
